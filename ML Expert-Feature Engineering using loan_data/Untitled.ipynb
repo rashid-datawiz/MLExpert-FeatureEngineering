{
 "cells": [
  {
   "cell_type": "code",
   "execution_count": 1,
   "id": "bc8e1baa-7e7a-40bd-8a9c-408d38fcc202",
   "metadata": {},
   "outputs": [],
   "source": [
    "import pandas as pd\n",
    "import numpy as np\n",
    "import seaborn as sns\n",
    "from ydata_profiling import ProfileReport # Auto EDA\n",
    "from sklearn.preprocessing import StandardScaler, LabelEncoder, OneHotEncoder, OrdinalEncoder\n",
    "import warnings\n",
    "warnings.filterwarnings('ignore')\n",
    "import matplotlib.pyplot as plt\n",
    "from sklearn.compose import ColumnTransformer\n",
    "from sklearn.preprocessing import FunctionTransformer\n",
    "import pickle"
   ]
  },
  {
   "cell_type": "code",
   "execution_count": 6,
   "id": "c9c676e8-2b45-45a0-bf4e-5cb576e8e6a9",
   "metadata": {},
   "outputs": [],
   "source": [
    "#!pip install ydata_profiling"
   ]
  },
  {
   "cell_type": "code",
   "execution_count": 2,
   "id": "688ad0f4-e4a2-413d-89c6-2e47d652a65d",
   "metadata": {},
   "outputs": [],
   "source": [
    "df = pd.read_csv('loan_approved.csv')"
   ]
  },
  {
   "cell_type": "code",
   "execution_count": 8,
   "id": "dc793a95-af91-4512-9a47-e59b1c89410f",
   "metadata": {},
   "outputs": [
    {
     "data": {
      "text/html": [
       "<div>\n",
       "<style scoped>\n",
       "    .dataframe tbody tr th:only-of-type {\n",
       "        vertical-align: middle;\n",
       "    }\n",
       "\n",
       "    .dataframe tbody tr th {\n",
       "        vertical-align: top;\n",
       "    }\n",
       "\n",
       "    .dataframe thead th {\n",
       "        text-align: right;\n",
       "    }\n",
       "</style>\n",
       "<table border=\"1\" class=\"dataframe\">\n",
       "  <thead>\n",
       "    <tr style=\"text-align: right;\">\n",
       "      <th></th>\n",
       "      <th>Loan_ID</th>\n",
       "      <th>Gender</th>\n",
       "      <th>Married</th>\n",
       "      <th>Dependents</th>\n",
       "      <th>Education</th>\n",
       "      <th>Self_Employed</th>\n",
       "      <th>ApplicantIncome</th>\n",
       "      <th>CoapplicantIncome</th>\n",
       "      <th>LoanAmount</th>\n",
       "      <th>Loan_Amount_Term</th>\n",
       "      <th>Credit_History</th>\n",
       "      <th>Property_Area</th>\n",
       "      <th>Loan_Status (Approved)</th>\n",
       "    </tr>\n",
       "  </thead>\n",
       "  <tbody>\n",
       "    <tr>\n",
       "      <th>0</th>\n",
       "      <td>LP001002</td>\n",
       "      <td>Male</td>\n",
       "      <td>No</td>\n",
       "      <td>0</td>\n",
       "      <td>Graduate</td>\n",
       "      <td>No</td>\n",
       "      <td>5849</td>\n",
       "      <td>0.0</td>\n",
       "      <td>NaN</td>\n",
       "      <td>360.0</td>\n",
       "      <td>1.0</td>\n",
       "      <td>Urban</td>\n",
       "      <td>Y</td>\n",
       "    </tr>\n",
       "    <tr>\n",
       "      <th>1</th>\n",
       "      <td>LP001003</td>\n",
       "      <td>Male</td>\n",
       "      <td>Yes</td>\n",
       "      <td>1</td>\n",
       "      <td>Graduate</td>\n",
       "      <td>No</td>\n",
       "      <td>4583</td>\n",
       "      <td>1508.0</td>\n",
       "      <td>128.0</td>\n",
       "      <td>360.0</td>\n",
       "      <td>1.0</td>\n",
       "      <td>Rural</td>\n",
       "      <td>N</td>\n",
       "    </tr>\n",
       "    <tr>\n",
       "      <th>2</th>\n",
       "      <td>LP001005</td>\n",
       "      <td>Male</td>\n",
       "      <td>Yes</td>\n",
       "      <td>0</td>\n",
       "      <td>Graduate</td>\n",
       "      <td>Yes</td>\n",
       "      <td>3000</td>\n",
       "      <td>0.0</td>\n",
       "      <td>66.0</td>\n",
       "      <td>360.0</td>\n",
       "      <td>1.0</td>\n",
       "      <td>Urban</td>\n",
       "      <td>Y</td>\n",
       "    </tr>\n",
       "    <tr>\n",
       "      <th>3</th>\n",
       "      <td>LP001006</td>\n",
       "      <td>Male</td>\n",
       "      <td>Yes</td>\n",
       "      <td>0</td>\n",
       "      <td>Not Graduate</td>\n",
       "      <td>No</td>\n",
       "      <td>2583</td>\n",
       "      <td>2358.0</td>\n",
       "      <td>120.0</td>\n",
       "      <td>360.0</td>\n",
       "      <td>1.0</td>\n",
       "      <td>Urban</td>\n",
       "      <td>Y</td>\n",
       "    </tr>\n",
       "    <tr>\n",
       "      <th>4</th>\n",
       "      <td>LP001008</td>\n",
       "      <td>Male</td>\n",
       "      <td>No</td>\n",
       "      <td>0</td>\n",
       "      <td>Graduate</td>\n",
       "      <td>No</td>\n",
       "      <td>6000</td>\n",
       "      <td>0.0</td>\n",
       "      <td>141.0</td>\n",
       "      <td>360.0</td>\n",
       "      <td>1.0</td>\n",
       "      <td>Urban</td>\n",
       "      <td>Y</td>\n",
       "    </tr>\n",
       "  </tbody>\n",
       "</table>\n",
       "</div>"
      ],
      "text/plain": [
       "    Loan_ID Gender Married Dependents     Education Self_Employed  \\\n",
       "0  LP001002   Male      No          0      Graduate            No   \n",
       "1  LP001003   Male     Yes          1      Graduate            No   \n",
       "2  LP001005   Male     Yes          0      Graduate           Yes   \n",
       "3  LP001006   Male     Yes          0  Not Graduate            No   \n",
       "4  LP001008   Male      No          0      Graduate            No   \n",
       "\n",
       "   ApplicantIncome  CoapplicantIncome  LoanAmount  Loan_Amount_Term  \\\n",
       "0             5849                0.0         NaN             360.0   \n",
       "1             4583             1508.0       128.0             360.0   \n",
       "2             3000                0.0        66.0             360.0   \n",
       "3             2583             2358.0       120.0             360.0   \n",
       "4             6000                0.0       141.0             360.0   \n",
       "\n",
       "   Credit_History Property_Area Loan_Status (Approved)  \n",
       "0             1.0         Urban                      Y  \n",
       "1             1.0         Rural                      N  \n",
       "2             1.0         Urban                      Y  \n",
       "3             1.0         Urban                      Y  \n",
       "4             1.0         Urban                      Y  "
      ]
     },
     "execution_count": 8,
     "metadata": {},
     "output_type": "execute_result"
    }
   ],
   "source": [
    "df.head()"
   ]
  },
  {
   "cell_type": "code",
   "execution_count": 9,
   "id": "958cbfe9-7b45-4a4c-ab76-4ff8acba8a67",
   "metadata": {},
   "outputs": [
    {
     "data": {
      "text/plain": [
       "Loan_ID                    0\n",
       "Gender                    13\n",
       "Married                    3\n",
       "Dependents                15\n",
       "Education                  0\n",
       "Self_Employed             32\n",
       "ApplicantIncome            0\n",
       "CoapplicantIncome          0\n",
       "LoanAmount                22\n",
       "Loan_Amount_Term          14\n",
       "Credit_History            50\n",
       "Property_Area              0\n",
       "Loan_Status (Approved)     0\n",
       "dtype: int64"
      ]
     },
     "execution_count": 9,
     "metadata": {},
     "output_type": "execute_result"
    }
   ],
   "source": [
    "df.isnull().sum() # checking which columns have how many null values"
   ]
  },
  {
   "cell_type": "markdown",
   "id": "23bcd404-4c60-4a09-ab71-060297611599",
   "metadata": {},
   "source": [
    "## Imputation Methods\n",
    "- Replacing missing values with estimated values.\n",
    "- Preserves sample size: Doesn’t reduce data points.\n",
    "- Can introduce bias: Estimated values might not be accurate.\n",
    "- Here are some common imputation methods:\n",
    "\n",
    "- Mean, Median, and Mode Imputation:\n",
    "\n",
    "- Replace missing values with the mean, median, or mode of the relevant variable.\n",
    "- Simple and efficient: Easy to implement.\n",
    "- Can be inaccurate: Doesn’t consider the relationships between variables.\n",
    "- we are explaining the imputation techniques for handling missing values in the ‘Marks’ column of the DataFrame (df). It calculates and fills missing values with the mean, median, and mode of the existing values in that column, and then prints the results for observation.\n",
    "\n",
    "- Mean Imputation: Calculates the mean of the ‘Marks’ column in the DataFrame (df).\n",
    "##### df['Marks'].fillna(...): Fills missing values in the ‘Marks’ column with the mean value.\n",
    "- mean_imputation: The result is stored in the variable mean_imputation.\n",
    "- Median Imputation: Calculates the median of the ‘Marks’ column in the DataFrame (df).\n",
    "##### df['Marks'].fillna(...): Fills missing values in the ‘Marks’ column with the median value.\n",
    "- median_imputation: The result is stored in the variable median_imputation.\n",
    "- Mode Imputation: Calculates the mode of the ‘Marks’ column in the DataFrame (df). The result is a Series.\n",
    "###### .iloc[0]: Accesses the first element of the Series, which represents the mode.\n",
    "###### df['Marks'].fillna(...): Fills missing values in the ‘Marks’ column with the mode value."
   ]
  },
  {
   "cell_type": "markdown",
   "id": "f37119bb-044b-4670-b50b-ad3157a983ff",
   "metadata": {},
   "source": [
    "### Now we know how to impute the null values from our dataset"
   ]
  },
  {
   "cell_type": "markdown",
   "id": "8054593d-8afe-4ff7-b524-9ace19e63919",
   "metadata": {},
   "source": [
    "## Imputing the null values :"
   ]
  },
  {
   "cell_type": "code",
   "execution_count": 3,
   "id": "b7d42601-7728-49d4-a6bd-853aab369d2d",
   "metadata": {},
   "outputs": [],
   "source": [
    "df.loc[df['Gender'].isnull(), 'Gender']=\"Male\" # df.loc[row, column] # We have imputed the null values with the Male"
   ]
  },
  {
   "cell_type": "code",
   "execution_count": 14,
   "id": "6b3b0d45-b11f-4663-9936-a811cc83f214",
   "metadata": {},
   "outputs": [],
   "source": [
    "# Or we can use fillna function which mentioned above:\n",
    "# df['Gender'].fillna(\"Female\", inplace=True)"
   ]
  },
  {
   "cell_type": "code",
   "execution_count": 4,
   "id": "6d27b76e-e284-41f9-8a94-71ff5e6a86ec",
   "metadata": {},
   "outputs": [
    {
     "data": {
      "text/plain": [
       "0"
      ]
     },
     "execution_count": 4,
     "metadata": {},
     "output_type": "execute_result"
    }
   ],
   "source": [
    "df['Gender'].isnull().sum()"
   ]
  },
  {
   "cell_type": "code",
   "execution_count": 5,
   "id": "68f6d701-e808-4870-ba07-20dffe3546d2",
   "metadata": {},
   "outputs": [],
   "source": [
    "df.loc[df['Dependents'].isnull(), 'Dependents'] = 0"
   ]
  },
  {
   "cell_type": "code",
   "execution_count": 11,
   "id": "090a7e68-78d9-44b1-b7a1-568c7b3b16aa",
   "metadata": {},
   "outputs": [
    {
     "data": {
      "text/plain": [
       "0"
      ]
     },
     "execution_count": 11,
     "metadata": {},
     "output_type": "execute_result"
    }
   ],
   "source": [
    "df['Dependents'].isnull().sum()"
   ]
  },
  {
   "cell_type": "code",
   "execution_count": 13,
   "id": "5b892228-a0e1-498b-9da2-9495040a6e64",
   "metadata": {},
   "outputs": [],
   "source": [
    "df.loc[df['Self_Employed'].isnull(), 'Self_Employed']=\"No\""
   ]
  },
  {
   "cell_type": "code",
   "execution_count": 15,
   "id": "d49d140f-f1f7-4661-84c6-d18ebd631085",
   "metadata": {},
   "outputs": [
    {
     "data": {
      "text/plain": [
       "0"
      ]
     },
     "execution_count": 15,
     "metadata": {},
     "output_type": "execute_result"
    }
   ],
   "source": [
    "df['Self_Employed'].isnull().sum()"
   ]
  },
  {
   "cell_type": "code",
   "execution_count": 17,
   "id": "65c3ffbb-d5b9-45da-b59f-3b0d95023e32",
   "metadata": {},
   "outputs": [],
   "source": [
    "df.loc[df['LoanAmount'].isnull(), 'LoanAmount'] = df['LoanAmount'].median()# We have imputed the null values with the median"
   ]
  },
  {
   "cell_type": "code",
   "execution_count": 19,
   "id": "d8f1b6d4-7f81-4b20-b040-15f07cefd6b3",
   "metadata": {},
   "outputs": [],
   "source": [
    "df.loc[df['Loan_Amount_Term'].isnull(), 'Loan_Amount_Term'] = 360.0"
   ]
  },
  {
   "cell_type": "code",
   "execution_count": 21,
   "id": "a1b57a47-d142-40e7-ab3d-3574428c8ce1",
   "metadata": {},
   "outputs": [],
   "source": [
    "df.loc[df['Credit_History'].isnull(),'Credit_History']=0.0 # We have imputed the null values with the 0"
   ]
  },
  {
   "cell_type": "code",
   "execution_count": 25,
   "id": "076391f6-6063-480c-8e18-195f330bf93e",
   "metadata": {},
   "outputs": [
    {
     "data": {
      "text/plain": [
       "3"
      ]
     },
     "execution_count": 25,
     "metadata": {},
     "output_type": "execute_result"
    }
   ],
   "source": [
    "df['Married'].isnull().sum()"
   ]
  },
  {
   "cell_type": "code",
   "execution_count": 29,
   "id": "70da5aed-d6db-4a9f-94fa-283d604658f6",
   "metadata": {},
   "outputs": [],
   "source": [
    "df.loc[df['Married'].isnull(), 'Married'] = 'No'"
   ]
  },
  {
   "cell_type": "code",
   "execution_count": 31,
   "id": "a3e8eac6-bed8-46e8-b265-65fccf46a4c5",
   "metadata": {},
   "outputs": [
    {
     "data": {
      "text/plain": [
       "0"
      ]
     },
     "execution_count": 31,
     "metadata": {},
     "output_type": "execute_result"
    }
   ],
   "source": [
    "df['Married'].isnull().sum()"
   ]
  },
  {
   "cell_type": "code",
   "execution_count": 33,
   "id": "2ce7896a-6df2-4379-83f3-4db075b3b7f8",
   "metadata": {},
   "outputs": [
    {
     "data": {
      "text/plain": [
       "Loan_ID                   0\n",
       "Gender                    0\n",
       "Married                   0\n",
       "Dependents                0\n",
       "Education                 0\n",
       "Self_Employed             0\n",
       "ApplicantIncome           0\n",
       "CoapplicantIncome         0\n",
       "LoanAmount                0\n",
       "Loan_Amount_Term          0\n",
       "Credit_History            0\n",
       "Property_Area             0\n",
       "Loan_Status (Approved)    0\n",
       "dtype: int64"
      ]
     },
     "execution_count": 33,
     "metadata": {},
     "output_type": "execute_result"
    }
   ],
   "source": [
    "df.isnull().sum()"
   ]
  },
  {
   "cell_type": "markdown",
   "id": "d4f412d9-bb4d-43ce-87fc-a5909f46c81b",
   "metadata": {},
   "source": [
    "## Outliers :"
   ]
  },
  {
   "cell_type": "markdown",
   "id": "14142f1d-3b56-4d0d-a72b-3b07e46522cd",
   "metadata": {},
   "source": [
    "- An outlier is a single data point that goes far outside the average value of a group of statistics.\n",
    "- Outliers may be exceptions that stand outside individual samples of populations as well.\n",
    "-  In a more general context, an outlier is an individual that is markedly different from the norm in some respect.\n",
    "- Outliers are extreme values that differ from most other data points in a dataset. They can have a big impact on your statistical analyses and skew the results of any hypothesis tests.\n",
    "\n",
    "- It’s important to carefully identify potential outliers in your dataset and deal with them in an appropriate manner for accurate results."
   ]
  },
  {
   "cell_type": "markdown",
   "id": "f6b471a9-25d6-43b3-809c-5658df4f9767",
   "metadata": {},
   "source": [
    "- There are four ways to identify outliers:\n",
    "1. Sorting method\n",
    "2. Data visualization method\n",
    "3. Interquartile range method"
   ]
  },
  {
   "cell_type": "markdown",
   "id": "67aa6a6b-28c3-46b1-a01e-4ff9fc280f90",
   "metadata": {},
   "source": [
    "## Sorting method\n",
    "- You can sort quantitative variables from low to high and scan for extremely low or extremely high values. Flag any extreme values that you find.\n",
    "\n",
    "- This is a simple way to check whether you need to investigate certain data points before using more sophisticated methods.\n",
    "\n",
    "## Using visualizations\n",
    "- You can use software to visualize your data with a box plot, or a box-and-whisker plot, so you can see the data distribution at a glance. This type of chart highlights minimum and maximum values (the range), the median, and the interquartile range for your data.\n",
    "\n",
    "- Many computer programs highlight an outlier on a chart with an asterisk, and these will lie outside the bounds of the graph.\n",
    "\n",
    "## Statistical outlier detection\n",
    "- Statistical outlier detection involves applying statistical tests or procedures to identify extreme values.\n",
    "\n",
    "- You can convert extreme data points into z scores that tell you how many standard deviations away they are from the mean.\n",
    "\n",
    "- If a value has a high enough or low enough z score, it can be considered an outlier. As a rule of thumb, values with a z score greater than 3 or less than –3 are often determined to be outliers.\n",
    "\n",
    "## Using the interquartile range\n",
    "- The interquartile range (IQR) tells you the range of the middle half of your dataset. You can use the IQR to create “fences” around your data and then define outliers as any values that fall outside those fences.\n",
    "### Interquartile range method\n",
    "\n",
    "- Sort your data from low to high\n",
    "- Identify the first quartile (Q1), the median, and the third quartile (Q3).\n",
    "- Calculate your IQR = Q3 – Q1\n",
    "- Calculate your upper fence = Q3 + (1.5 * IQR)\n",
    "- Calculate your lower fence = Q1 – (1.5 * IQR)\n",
    "- Use your fences to highlight any outliers, all values that fall outside your fences.\n",
    "- Your outliers are any values greater than your upper fence or less than your lower fence."
   ]
  },
  {
   "cell_type": "code",
   "execution_count": 28,
   "id": "568b8f25-ba16-4509-bca6-7d577876e16f",
   "metadata": {},
   "outputs": [
    {
     "name": "stdout",
     "output_type": "stream",
     "text": [
      "<class 'pandas.core.frame.DataFrame'>\n",
      "RangeIndex: 614 entries, 0 to 613\n",
      "Data columns (total 13 columns):\n",
      " #   Column                  Non-Null Count  Dtype  \n",
      "---  ------                  --------------  -----  \n",
      " 0   Loan_ID                 614 non-null    object \n",
      " 1   Gender                  614 non-null    object \n",
      " 2   Married                 611 non-null    object \n",
      " 3   Dependents              614 non-null    object \n",
      " 4   Education               614 non-null    object \n",
      " 5   Self_Employed           614 non-null    object \n",
      " 6   ApplicantIncome         614 non-null    int64  \n",
      " 7   CoapplicantIncome       614 non-null    float64\n",
      " 8   LoanAmount              614 non-null    float64\n",
      " 9   Loan_Amount_Term        614 non-null    float64\n",
      " 10  Credit_History          614 non-null    float64\n",
      " 11  Property_Area           614 non-null    object \n",
      " 12  Loan_Status (Approved)  614 non-null    object \n",
      "dtypes: float64(4), int64(1), object(8)\n",
      "memory usage: 62.5+ KB\n"
     ]
    }
   ],
   "source": [
    "df.info()"
   ]
  },
  {
   "cell_type": "markdown",
   "id": "9a6512f4-6b39-4388-a6ea-6acd9eec81fd",
   "metadata": {},
   "source": [
    "## Visualizing the outliers :"
   ]
  },
  {
   "cell_type": "code",
   "execution_count": 30,
   "id": "ae7ddfd9-28fd-4d0d-b8fe-7d7715360c84",
   "metadata": {},
   "outputs": [
    {
     "data": {
      "text/plain": [
       "<Axes: xlabel='LoanAmount'>"
      ]
     },
     "execution_count": 30,
     "metadata": {},
     "output_type": "execute_result"
    },
    {
     "data": {
      "image/png": "[encoded data removed]",
      "text/plain": [
       "<Figure size 640x480 with 1 Axes>"
      ]
     },
     "metadata": {},
     "output_type": "display_data"
    }
   ],
   "source": [
    "sns.boxplot(x=df.LoanAmount ,orient='h')"
   ]
  },
  {
   "cell_type": "code",
   "execution_count": 31,
   "id": "bfbce00b-f3e1-47bc-bb06-e734721e267c",
   "metadata": {},
   "outputs": [
    {
     "data": {
      "text/plain": [
       "<Axes: ylabel='Density'>"
      ]
     },
     "execution_count": 31,
     "metadata": {},
     "output_type": "execute_result"
    },
    {
     "data": {
      "image/png": "[encoded data removed]",
      "text/plain": [
       "<Figure size 640x480 with 1 Axes>"
      ]
     },
     "metadata": {},
     "output_type": "display_data"
    }
   ],
   "source": [
    "sns.distplot(x=df.LoanAmount)"
   ]
  },
  {
   "cell_type": "markdown",
   "id": "adb25a5d-34f7-42c1-83b2-7de305b7479f",
   "metadata": {},
   "source": [
    "## Handling the outliers :"
   ]
  },
  {
   "cell_type": "markdown",
   "id": "0e4864e9-7e69-48ec-bbf4-7aea40e22ecd",
   "metadata": {},
   "source": [
    "## Using Winsorize Method to handle outliers :"
   ]
  },
  {
   "cell_type": "code",
   "execution_count": 34,
   "id": "0d8470ed-1c38-46a0-9d32-b9a7632fc054",
   "metadata": {},
   "outputs": [],
   "source": [
    "# Helps to Trim the outliers based on percentage from both the end of data\n",
    "# We can set that after this point, we want to remove/trim data"
   ]
  },
  {
   "cell_type": "code",
   "execution_count": 35,
   "id": "fae7ef4b-6f3a-489e-ac17-a6fb4006345d",
   "metadata": {},
   "outputs": [
    {
     "data": {
      "text/plain": [
       "<Axes: xlabel='ApplicantIncome'>"
      ]
     },
     "execution_count": 35,
     "metadata": {},
     "output_type": "execute_result"
    },
    {
     "data": {
      "image/png": "[encoded data removed]",
      "text/plain": [
       "<Figure size 640x480 with 1 Axes>"
      ]
     },
     "metadata": {},
     "output_type": "display_data"
    }
   ],
   "source": [
    "sns.boxplot(x=df.ApplicantIncome)"
   ]
  },
  {
   "cell_type": "code",
   "execution_count": 35,
   "id": "e45a0af2-3bcf-41b7-b7b0-bbed16e930f0",
   "metadata": {},
   "outputs": [],
   "source": [
    "from scipy.stats.mstats import winsorize\n",
    "# Specify the percentage of data to be trimmed from both ends\n",
    "trim_percentage = 0.05\n",
    "\n",
    "# Winsorize the specific column:\n",
    "df['ApplicantIncome'] = winsorize(df['ApplicantIncome'], limits=trim_percentage)"
   ]
  },
  {
   "cell_type": "code",
   "execution_count": 37,
   "id": "eb6765f8-420d-4695-89fd-cf5daa650142",
   "metadata": {},
   "outputs": [
    {
     "data": {
      "text/plain": [
       "<Axes: xlabel='ApplicantIncome'>"
      ]
     },
     "execution_count": 37,
     "metadata": {},
     "output_type": "execute_result"
    },
    {
     "data": {
      "image/png": "[encoded data removed]",
      "text/plain": [
       "<Figure size 640x480 with 1 Axes>"
      ]
     },
     "metadata": {},
     "output_type": "display_data"
    }
   ],
   "source": [
    "sns.boxplot(x=df.ApplicantIncome)"
   ]
  },
  {
   "cell_type": "code",
   "execution_count": 38,
   "id": "c49d65ee-273c-45c6-8aaa-7167dcccfdc8",
   "metadata": {},
   "outputs": [],
   "source": [
    "# NOTE: If too many outliers are there then we don't need to handle outliers. lets say, if outliers are more than 10% then dont handle them"
   ]
  },
  {
   "cell_type": "markdown",
   "id": "17ac4d23-5d87-40d7-a16e-789581d970af",
   "metadata": {},
   "source": [
    "## Now we can be able to see that the outliers were sorted."
   ]
  },
  {
   "cell_type": "markdown",
   "id": "d7e0f764-60e8-4c39-afc9-31ad38a043d8",
   "metadata": {},
   "source": [
    "## Using IQR method to handle the outliers :"
   ]
  },
  {
   "cell_type": "code",
   "execution_count": 39,
   "id": "707b7d11-d636-41fc-991d-6b897986840f",
   "metadata": {},
   "outputs": [],
   "source": [
    "import numpy as np\n",
    "import pandas as pd\n",
    "\n",
    "# Calculate quartiles\n",
    "Q1 = df['LoanAmount'].quantile(0.25)\n",
    "Q3 = df['LoanAmount'].quantile(0.75)"
   ]
  },
  {
   "cell_type": "code",
   "execution_count": 41,
   "id": "2861feaf-3e76-4d4e-85e7-b7ef3b970f35",
   "metadata": {},
   "outputs": [
    {
     "data": {
      "text/plain": [
       "64.5"
      ]
     },
     "execution_count": 41,
     "metadata": {},
     "output_type": "execute_result"
    }
   ],
   "source": [
    "# Calculate IQR\n",
    "IQR = Q3 - Q1\n",
    "IQR"
   ]
  },
  {
   "cell_type": "code",
   "execution_count": 43,
   "id": "7f0a9332-db21-4ea5-8108-e5f5dec03b6a",
   "metadata": {},
   "outputs": [],
   "source": [
    "# Define lower and upper bounds\n",
    "lower_bound = Q1 - 1.5 * IQR\n",
    "upper_bound = Q3 + 1.5 * IQR"
   ]
  },
  {
   "cell_type": "code",
   "execution_count": 45,
   "id": "0ae496c1-4e51-41de-9879-47e029620fc4",
   "metadata": {},
   "outputs": [
    {
     "name": "stdout",
     "output_type": "stream",
     "text": [
      "3.5\n",
      "261.5\n"
     ]
    }
   ],
   "source": [
    "print(lower_bound)\n",
    "print(upper_bound)"
   ]
  },
  {
   "cell_type": "code",
   "execution_count": 47,
   "id": "f60df4cf-219e-4e80-a54e-6c524d1060a7",
   "metadata": {},
   "outputs": [],
   "source": [
    "# Remove outliers\n",
    "df = df[(df['LoanAmount'] >= lower_bound) & (df['LoanAmount'] <= upper_bound)]"
   ]
  },
  {
   "cell_type": "code",
   "execution_count": 46,
   "id": "7d949c7d-7335-41c7-a0bd-1a6b4429ca99",
   "metadata": {},
   "outputs": [],
   "source": [
    "#df"
   ]
  },
  {
   "cell_type": "code",
   "execution_count": 49,
   "id": "21d5a4f0-4051-4c8e-9b11-c3bc20a9935b",
   "metadata": {},
   "outputs": [
    {
     "data": {
      "text/plain": [
       "<Axes: xlabel='LoanAmount'>"
      ]
     },
     "execution_count": 49,
     "metadata": {},
     "output_type": "execute_result"
    },
    {
     "data": {
      "image/png": "[encoded data removed]",
      "text/plain": [
       "<Figure size 640x480 with 1 Axes>"
      ]
     },
     "metadata": {},
     "output_type": "display_data"
    }
   ],
   "source": [
    "sns.boxplot(x=df.LoanAmount ,orient='h')"
   ]
  },
  {
   "cell_type": "markdown",
   "id": "d9df36dc-49f6-4559-9c82-225d16d7e0cd",
   "metadata": {},
   "source": [
    "## WEcan be able to see that the outliers were sorted."
   ]
  },
  {
   "cell_type": "markdown",
   "id": "6fc6f3fb-7173-435c-ac54-b1acf865ee2c",
   "metadata": {},
   "source": [
    "# PREPROCESSING:"
   ]
  },
  {
   "cell_type": "markdown",
   "id": "dd8443e0-5832-432b-92dc-5ea68ea3fb2c",
   "metadata": {},
   "source": [
    "- Data preprocessing is a process of preparing the raw data and making it suitable for a machine learning model.\n",
    "- It is the first and crucial step while creating a machine learning model.\n",
    "- When creating a machine learning project, it is not always a case that we come across the clean and formatted data.\n",
    "\n",
    "### The steps used in data preprocessing include the following:\n",
    "- Data profiling\n",
    "- Data profiling is the process of examining, analyzing and reviewing data to collect statistics about its quality.\n",
    "- Data cleansing.\n",
    "- Data reduction.\n",
    "- Data transformation.\n",
    "- Data validation.\n",
    "\n",
    "- Data preprocessing transforms the data into a format that is more easily and effectively processed in data mining, machine learning and other data science tasks.\n",
    "- The techniques are generally used at the earliest stages of the machine learning and AI development pipeline to ensure accurate results.\n",
    "\n",
    "### There are several different tools and methods used for preprocessing data, including the following:\n",
    "\n",
    "- sampling, which selects a representative subset from a large population of data;\n",
    "- transformation, which manipulates raw data to produce a single input;\n",
    "- denoising, which removes noise from data;\n",
    "- imputation, which synthesizes statistically relevant data for missing values;\n",
    "- normalization, which organizes data for more efficient access; and\n",
    "- feature extraction, which pulls out a relevant feature subset that is significant in a particular context.\n",
    "- These tools and methods can be used on a variety of data sources, including data stored in files or databases and streaming data.\n",
    "\n",
    "### Why is data preprocessing important?\n",
    "\n",
    "- Machine learning and deep learning algorithms work best when data is presented in a format that highlights the relevant aspects required to solve a problem.\n",
    "- Feature engineering practices that involve data wrangling, data transformation, data reduction, feature selection and feature scaling help restructure raw data into a form suited for particular types of algorithms.\n",
    "- This can significantly reduce the processing power and time required to train a new machine learning or AI algorithm or run an inference against it.\n",
    "\n",
    "\n",
    "### Data preprocessing techniques\n",
    "- There are two main categories of preprocessing -- data cleansing and feature engineering. Each includes a variety of techniques, as detailed below.\n",
    "\n",
    "#### Data cleansing\n",
    "- Techniques for cleaning up messy data include the following:\n",
    "\n",
    "- Identify and sort out missing data.\n",
    "- There are a variety of reasons a data set might be missing individual fields of data.\n",
    "- Data scientists need to decide whether it is better to discard records with missing fields, ignore them or fill them in with a probable value.\n",
    "- For example, in an IoT application that records temperature, adding in a missing average temperature between the previous and subsequent record might be a safe fix.\n",
    "\n",
    "\n",
    "- Reduce noisy data. Real-world data is often noisy, which can distort an analytic or AI model.\n",
    "- For example, a temperature sensor that consistently reported a temperature of 75 degrees Fahrenheit might erroneously report a temperature as 250 degrees.\n",
    "- A variety of statistical approaches can be used to reduce the noise, including binning, regression and clustering.\n",
    "\n",
    "- Identify and remove duplicates. When two records seem to repeat, an algorithm needs to determine if the same measurement was recorded twice, or the records represent different events.\n",
    "- In some cases, there may be slight differences in a record because one field was recorded incorrectly.\n",
    "- In other cases, records that seem to be duplicates might indeed be different, as in a father and son with the same name who are living in the same house but should be represented as separate individuals.\n",
    "- Techniques for identifying and removing or joining duplicates can help to automatically address these types of problems.\n",
    "\n",
    "#### Feature engineering\n",
    "- Feature engineering, as noted, involves techniques used by data scientists to organize the data in ways that make it more efficient to train data models and run inferences against them.\n",
    "- These techniques include the following:\n",
    "\n",
    "- Feature scaling or normalization. Often, multiple variables change over different scales, or one will change linearly while another will change exponentially.\n",
    "- For example, salary might be measured in thousands of dollars, while age is represented in double digits.\n",
    "- Scaling helps to transform the data in a way that makes it easier for algorithms to tease apart a meaningful relationship between variables.\n",
    "\n",
    "##### Data reduction.\n",
    "- Data scientists often need to combine a variety of data sources to create a new AI or analytics model.\n",
    "- Some of the variables may not be correlated with a given outcome and can be safely discarded.\n",
    "- Other variables might be relevant, but only in terms of relationship -- such as the ratio of debt to credit in the case of a model predicting the likelihood of a loan repayment; they may be combined into a single variable.\n",
    "- Techniques like principal component analysis play a key role in reducing the number of dimensions in the training data set into a more efficient representation.\n",
    "\n",
    "##### Discretization.\n",
    "- It's often useful to lump raw numbers into discrete intervals.\n",
    "- For example, income might be broken into five ranges that are representative of people who typically apply for a given type of loan.\n",
    "- This can reduce the overhead of training a model or running inferences against it.\n",
    "\n",
    "##### Feature encoding.\n",
    "- Another aspect of feature engineering involves organizing unstructured data into a structured format.\n",
    "- Unstructured data formats can include text, audio and video.\n",
    "- For example, the process of developing natural language processing algorithms typically starts by using data transformation algorithms like Word2vec to translate words into numerical vectors.\n",
    "- This makes it easy to represent to the algorithm that words like \"mail\" and \"parcel\" are similar, while a word like \"house\" is completely different.\n",
    "- Similarly, a facial recognition algorithm might reencode raw pixel data into vectors representing the distances between parts of the face."
   ]
  },
  {
   "cell_type": "markdown",
   "id": "1ac55081-814b-4ba0-abba-9e81e238e8ca",
   "metadata": {},
   "source": [
    "## Data Preprocessing :"
   ]
  },
  {
   "cell_type": "code",
   "execution_count": 52,
   "id": "ace89915-2bde-4fcf-afd5-85fb06b04c36",
   "metadata": {},
   "outputs": [
    {
     "data": {
      "text/plain": [
       "Index(['Loan_ID', 'Gender', 'Married', 'Dependents', 'Education',\n",
       "       'Self_Employed', 'ApplicantIncome', 'CoapplicantIncome', 'LoanAmount',\n",
       "       'Loan_Amount_Term', 'Credit_History', 'Property_Area',\n",
       "       'Loan_Status (Approved)'],\n",
       "      dtype='object')"
      ]
     },
     "execution_count": 52,
     "metadata": {},
     "output_type": "execute_result"
    }
   ],
   "source": [
    "df.columns"
   ]
  },
  {
   "cell_type": "code",
   "execution_count": 53,
   "id": "98ec618c-ac79-4d6e-9821-d51c08568baa",
   "metadata": {},
   "outputs": [
    {
     "data": {
      "text/plain": [
       "Married\n",
       "Yes    367\n",
       "No     203\n",
       "Name: count, dtype: int64"
      ]
     },
     "execution_count": 53,
     "metadata": {},
     "output_type": "execute_result"
    }
   ],
   "source": [
    "df['Married'].value_counts()"
   ]
  },
  {
   "cell_type": "code",
   "execution_count": 63,
   "id": "29face88-3c2f-497f-86d9-401440cdae81",
   "metadata": {},
   "outputs": [
    {
     "data": {
      "text/plain": [
       "Loan_ID\n",
       "LP001002    1\n",
       "LP002335    1\n",
       "LP002314    1\n",
       "LP002315    1\n",
       "LP002318    1\n",
       "           ..\n",
       "LP001673    1\n",
       "LP001671    1\n",
       "LP001669    1\n",
       "LP001666    1\n",
       "LP002990    1\n",
       "Name: count, Length: 573, dtype: int64"
      ]
     },
     "execution_count": 63,
     "metadata": {},
     "output_type": "execute_result"
    }
   ],
   "source": [
    "df['Loan_ID'].value_counts()"
   ]
  },
  {
   "cell_type": "code",
   "execution_count": 54,
   "id": "3d2131b4-f0a2-45e9-aaea-a85903180f6c",
   "metadata": {},
   "outputs": [
    {
     "data": {
      "text/plain": [
       "Dependents\n",
       "0     330\n",
       "2      96\n",
       "1      92\n",
       "3+     40\n",
       "0      15\n",
       "Name: count, dtype: int64"
      ]
     },
     "execution_count": 54,
     "metadata": {},
     "output_type": "execute_result"
    }
   ],
   "source": [
    "df['Dependents'].value_counts()"
   ]
  },
  {
   "cell_type": "code",
   "execution_count": 55,
   "id": "8d82e09c-6883-4408-85a5-d0a04fb34849",
   "metadata": {},
   "outputs": [
    {
     "data": {
      "text/plain": [
       "Education\n",
       "Graduate        440\n",
       "Not Graduate    133\n",
       "Name: count, dtype: int64"
      ]
     },
     "execution_count": 55,
     "metadata": {},
     "output_type": "execute_result"
    }
   ],
   "source": [
    "df['Education'].value_counts()"
   ]
  },
  {
   "cell_type": "code",
   "execution_count": 56,
   "id": "531d4bdd-2616-47f4-915a-e3b78516b330",
   "metadata": {},
   "outputs": [
    {
     "data": {
      "text/plain": [
       "Credit_History\n",
       "1.0    444\n",
       "0.0    129\n",
       "Name: count, dtype: int64"
      ]
     },
     "execution_count": 56,
     "metadata": {},
     "output_type": "execute_result"
    }
   ],
   "source": [
    "df['Credit_History'].value_counts()"
   ]
  },
  {
   "cell_type": "code",
   "execution_count": 57,
   "id": "f02e93a8-5a68-44b6-a680-03a5321cac8a",
   "metadata": {},
   "outputs": [
    {
     "data": {
      "text/plain": [
       "Loan_Status (Approved)\n",
       "Y    397\n",
       "N    176\n",
       "Name: count, dtype: int64"
      ]
     },
     "execution_count": 57,
     "metadata": {},
     "output_type": "execute_result"
    }
   ],
   "source": [
    "df['Loan_Status (Approved)'].value_counts()"
   ]
  },
  {
   "cell_type": "code",
   "execution_count": 58,
   "id": "abb90f37-2290-4ae3-9882-a929def46f94",
   "metadata": {},
   "outputs": [
    {
     "data": {
      "text/plain": [
       "Property_Area\n",
       "Semiurban    220\n",
       "Urban        188\n",
       "Rural        165\n",
       "Name: count, dtype: int64"
      ]
     },
     "execution_count": 58,
     "metadata": {},
     "output_type": "execute_result"
    }
   ],
   "source": [
    "df['Property_Area'].value_counts()"
   ]
  },
  {
   "cell_type": "markdown",
   "id": "f02d0bbf-0ec5-4c78-b7e3-5203b14689ec",
   "metadata": {},
   "source": [
    "### Steps of preprocesing for features:\n",
    "- LabelEncoder for Married,Credit_history\n",
    "- OrdinalEncoder for Dependents,Education\n",
    "- One hot encoder for Self Employed,Property_area,Gender\n",
    "### Steps of preprocessing for Label\n",
    "- LabelEncoder for Loan_Status (Approved)"
   ]
  },
  {
   "cell_type": "markdown",
   "id": "f9134065-fd93-47f0-965e-4847f52aad22",
   "metadata": {},
   "source": [
    "- From the above example we can see that there were different columns that we need to work on.\n",
    "- Like for some of the columns we need to do label encoding.\n",
    "- Like for some of the columns we need to do one hot encoding.\n",
    "- Like for some of the columns we need to do scaling.\n",
    "- May be we need to delete some of the columns that weere not relevant that is called data cleaning."
   ]
  },
  {
   "cell_type": "markdown",
   "id": "c863f4fa-33d4-4a69-8ad3-f81a97efb2f6",
   "metadata": {},
   "source": [
    "## Data Cleaning :"
   ]
  },
  {
   "cell_type": "code",
   "execution_count": 51,
   "id": "d7ea92e2-4b80-4a3b-8a29-9c8b2b5ae1ea",
   "metadata": {},
   "outputs": [],
   "source": [
    "df=df.drop(['Dependents'], axis=1)"
   ]
  },
  {
   "cell_type": "code",
   "execution_count": 53,
   "id": "1be37ab3-87c9-4501-852a-3ee9ce0bd24f",
   "metadata": {},
   "outputs": [
    {
     "data": {
      "text/plain": [
       "Index(['Loan_ID', 'Gender', 'Married', 'Education', 'Self_Employed',\n",
       "       'ApplicantIncome', 'CoapplicantIncome', 'LoanAmount',\n",
       "       'Loan_Amount_Term', 'Credit_History', 'Property_Area',\n",
       "       'Loan_Status (Approved)'],\n",
       "      dtype='object')"
      ]
     },
     "execution_count": 53,
     "metadata": {},
     "output_type": "execute_result"
    }
   ],
   "source": [
    "df.columns"
   ]
  },
  {
   "cell_type": "markdown",
   "id": "415d2d29-a37c-4938-8ee0-ec4d30599bef",
   "metadata": {},
   "source": [
    "### Here the [ ' Dependents' ] column was dropped as per the requirement."
   ]
  },
  {
   "cell_type": "markdown",
   "id": "b58a7ad3-09d8-432b-bc98-a3eaf1ab3221",
   "metadata": {},
   "source": [
    "## Encoding Techniques :"
   ]
  },
  {
   "cell_type": "markdown",
   "id": "e5d0ef92-37e8-415b-b318-1ab5faf3b3e5",
   "metadata": {},
   "source": [
    "- It refers to the process of converting categorical or textual data into numerical format, so that it can be used as input for algorithms to process.\n",
    "- The reason for encoding is that most machine learning algorithms work with numbers and not with text or categorical variables.\n",
    "\n",
    "- Machine learning models can only work with numerical values. For this reason, it is necessary to transform the categorical values of the relevant features into numerical ones. This process is called feature encoding.\n",
    "\n",
    "- Data encoding is a fundamental aspect of data preprocessing in machine learning. As datasets often contain categorical variables, like gender, product categories, or geographic regions, converting them into numerical form is necessary for algorithms to process the data effectively.\n",
    "\n",
    "- Encoding categorical variables is a vital step in preparing data for machine learning tasks.\n",
    "- When dealing with categorical data, characterized by non-numeric values such as text or categories, it becomes necessary to transform them into a numerical format for compatibility with machine learning algorithms.\n",
    "\n"
   ]
  },
  {
   "cell_type": "markdown",
   "id": "bf66c069-5630-4e30-850a-9ecfcd048eb4",
   "metadata": {},
   "source": [
    "###  One-Hot Encoding:\n",
    "- One-hot encoding is the most widely used categorical encoding technique. It is suitable for nominal categorical variables, where the categories have no inherent order or relationship. The idea behind one-hot encoding is to represent each category as a binary vector. Here’s how it works:\n",
    "\n",
    "- For each category in a categorical column, a new binary column is created\n",
    "- The binary column will have a value of 1 if the class is present, else it will be zero\n",
    "- For example, if you have a categorical feature “Color” with values “Yellow”, “Blue,” and “Green,” one-hot encoding would convert it into three binary columns:"
   ]
  },
  {
   "cell_type": "markdown",
   "id": "a5542a8b-42ac-4d30-86e8-11ddb1312558",
   "metadata": {},
   "source": [
    "### When to use: Ideally for categorical features with less than 05 categories."
   ]
  },
  {
   "cell_type": "markdown",
   "id": "8e4f4b8c-1be2-4982-b568-c3bb28747f06",
   "metadata": {},
   "source": [
    "## Using One Hot Encoding :"
   ]
  },
  {
   "cell_type": "code",
   "execution_count": 55,
   "id": "b4d678b0-e53d-49bc-95a9-c038b024194a",
   "metadata": {},
   "outputs": [],
   "source": [
    "df_encoded = pd.get_dummies(df, columns=['Married'], prefix='Married')"
   ]
  },
  {
   "cell_type": "code",
   "execution_count": 59,
   "id": "c45a0030-0bb9-48e7-ac9f-3f95e98e2db7",
   "metadata": {},
   "outputs": [],
   "source": [
    "df_encoded = pd.get_dummies(df, columns=['Property_Area'], prefix='Property_Area')"
   ]
  },
  {
   "cell_type": "code",
   "execution_count": 61,
   "id": "ac1dd175-9443-4020-9a8d-1395e0edd7e4",
   "metadata": {},
   "outputs": [
    {
     "data": {
      "text/plain": [
       "Index(['Loan_ID', 'Gender', 'Married', 'Education', 'Self_Employed',\n",
       "       'ApplicantIncome', 'CoapplicantIncome', 'LoanAmount',\n",
       "       'Loan_Amount_Term', 'Credit_History', 'Loan_Status (Approved)',\n",
       "       'Property_Area_Rural', 'Property_Area_Semiurban',\n",
       "       'Property_Area_Urban'],\n",
       "      dtype='object')"
      ]
     },
     "execution_count": 61,
     "metadata": {},
     "output_type": "execute_result"
    }
   ],
   "source": [
    "df_encoded.columns"
   ]
  },
  {
   "cell_type": "markdown",
   "id": "3b2edb97-fc30-42e8-9821-3a28cf8849fa",
   "metadata": {},
   "source": [
    "### We can be able to see that there were two more created from the ['Married'] column."
   ]
  },
  {
   "cell_type": "markdown",
   "id": "fcf56fc2-e793-4a82-9220-1002f4693ae0",
   "metadata": {},
   "source": [
    "## Label Encoding :"
   ]
  },
  {
   "cell_type": "markdown",
   "id": "8ae2fed0-90da-42f0-8b6f-cc70a08303ab",
   "metadata": {},
   "source": [
    "- Label encoding is suitable for categorical features with only two distinct categories.\n",
    "- In this technique, each category is assigned a unique integer label. Categories are assigned integer values starting from 0.\n",
    "\n",
    "- For example, if you have an ordinal categorical feature “Size” with values “Small,” “Medium,” and “Large,” label encoding would convert it as follows:\n",
    "\n",
    "#### Size  Size_encoded\n",
    "- 0   Small             2\n",
    "- 1  Medium             1\n",
    "- 2   Large             0\n",
    "- 3  Medium             1\n",
    "- 4   Small             2\n",
    "\n",
    "\n",
    "- As you can see, each unique category in the ‘Size’ column has been replaced with a unique integer label, where ‘Small’ is encoded as 2, ‘Medium’ as 1, and ‘Large’ as 0.\n",
    "\n",
    "\n",
    "### When to use: Categorical features with two categories\n",
    "\n"
   ]
  },
  {
   "cell_type": "markdown",
   "id": "5b7c27b2-03fd-446f-888c-342e4084e861",
   "metadata": {},
   "source": [
    "## Using Label encoding :"
   ]
  },
  {
   "cell_type": "code",
   "execution_count": 65,
   "id": "abe8c3f0-098e-44e3-97ca-d9e9b7af0355",
   "metadata": {},
   "outputs": [
    {
     "name": "stdout",
     "output_type": "stream",
     "text": [
      "     Married\n",
      "0          0\n",
      "1          1\n",
      "2          1\n",
      "3          1\n",
      "4          0\n",
      "..       ...\n",
      "609        0\n",
      "610        1\n",
      "611        1\n",
      "612        1\n",
      "613        0\n",
      "\n",
      "[573 rows x 1 columns]\n",
      "     Loan_ID\n",
      "0          0\n",
      "1          1\n",
      "2          2\n",
      "3          3\n",
      "4          4\n",
      "..       ...\n",
      "609      568\n",
      "610      569\n",
      "611      570\n",
      "612      571\n",
      "613      572\n",
      "\n",
      "[573 rows x 1 columns]\n"
     ]
    }
   ],
   "source": [
    "from sklearn.preprocessing import LabelEncoder\n",
    "encoder = LabelEncoder()\n",
    "# Fit and transform the 'matchType' column to obtain label-encoded values\n",
    "df['Married'] = encoder.fit_transform(df['Married'])\n",
    "df['Loan_ID'] = encoder.fit_transform(df['Loan_ID'])\n",
    "# Display the result\n",
    "print(df[['Married']])\n",
    "print(df[['Loan_ID']])"
   ]
  },
  {
   "cell_type": "code",
   "execution_count": 67,
   "id": "d23ae5a0-52ab-4230-be6e-80d17a1d01f4",
   "metadata": {},
   "outputs": [
    {
     "name": "stdout",
     "output_type": "stream",
     "text": [
      "     Loan_Status (Approved)\n",
      "0                         1\n",
      "1                         0\n",
      "2                         1\n",
      "3                         1\n",
      "4                         1\n",
      "..                      ...\n",
      "609                       1\n",
      "610                       1\n",
      "611                       1\n",
      "612                       1\n",
      "613                       0\n",
      "\n",
      "[573 rows x 1 columns]\n"
     ]
    }
   ],
   "source": [
    "df['Loan_Status (Approved)'] = encoder.fit_transform(df['Loan_Status (Approved)'])\n",
    "print(df[['Loan_Status (Approved)']])"
   ]
  },
  {
   "cell_type": "markdown",
   "id": "14272ecf-145d-4359-9587-375bb55e55a6",
   "metadata": {},
   "source": [
    "## Ordinal Encoding :"
   ]
  },
  {
   "cell_type": "markdown",
   "id": "a59f2386-c520-4256-b40a-fe5439687e57",
   "metadata": {},
   "source": [
    "###  Ordinal Encoding:\n",
    "- Ordinal encoding is similar to label encoding but allows you to explicitly define the mapping between categories and integer labels.\n",
    "- This is especially useful when there is a clear and predefined ordinal relationship.\n",
    "- You manually specify the order of categories and map them to integers accordingly.\n",
    "\n",
    "- In this example, we use the OrdinalEncoder class from category_encoderslibrary.\n",
    "- This library provides a convenient way to apply various encoding techniques to your categorical data.\n",
    "\n",
    "- We start with a DataFrame df containing an ordinal categorical column 'Education_Level' with values like 'High School,' 'Bachelor's,' and 'Master's.'\n",
    "- We define the order of categories in the education_order list. The order should match the ordinal relationship of the categories.\n",
    "- We initialize the OrdinalEncoder with the specified mapping using the mapping parameter.\n",
    "- We provide a dictionary specifying the column to encode ('Education_Level') and a mapping dictionary that maps each category to its ordinal value based on the defined order.\n",
    "- We fit and transform the DataFrame using the ordinal_encoder.\n",
    "\n",
    "\n",
    "### When to use: The best option for ordinal features that have some orders and hierarchy.\n",
    "\n"
   ]
  },
  {
   "cell_type": "markdown",
   "id": "b3b3b6cc-caa0-4bdc-a042-0957e955c9cd",
   "metadata": {},
   "source": [
    "## Using Ordinal Encoder :"
   ]
  },
  {
   "cell_type": "code",
   "execution_count": 81,
   "id": "d2abb253-e606-4ea2-b3c4-a8a7f796bc4b",
   "metadata": {},
   "outputs": [
    {
     "data": {
      "text/plain": [
       "Education\n",
       "Graduate        440\n",
       "Not Graduate    133\n",
       "Name: count, dtype: int64"
      ]
     },
     "execution_count": 81,
     "metadata": {},
     "output_type": "execute_result"
    }
   ],
   "source": [
    "df.Education.value_counts()"
   ]
  },
  {
   "cell_type": "code",
   "execution_count": 69,
   "id": "ee812ef7-1a80-44e9-972b-e1746419d974",
   "metadata": {},
   "outputs": [],
   "source": [
    "education_enc = OrdinalEncoder(categories=[['Graduate', 'Not Graduate']])"
   ]
  },
  {
   "cell_type": "code",
   "execution_count": 71,
   "id": "95a49b99-edb0-40ff-b11e-5013cca6fb83",
   "metadata": {},
   "outputs": [],
   "source": [
    "df['Education'] = encoder.fit_transform(df[['Education']])"
   ]
  },
  {
   "cell_type": "code",
   "execution_count": 73,
   "id": "83376128-efab-4303-899c-f85aa5cdc595",
   "metadata": {},
   "outputs": [
    {
     "data": {
      "text/plain": [
       "Education\n",
       "0    440\n",
       "1    133\n",
       "Name: count, dtype: int64"
      ]
     },
     "execution_count": 73,
     "metadata": {},
     "output_type": "execute_result"
    }
   ],
   "source": [
    "df.Education.value_counts()"
   ]
  },
  {
   "cell_type": "markdown",
   "id": "15ff6806-576e-4f1e-af6e-78644a7b5901",
   "metadata": {},
   "source": [
    "### We are able to see that 0 will be give to 'Graduate' and 1 to 'Not Graduate'"
   ]
  },
  {
   "cell_type": "markdown",
   "id": "8d959542-0ef0-4ef4-b09b-285947e22398",
   "metadata": {},
   "source": [
    "## Transformation:"
   ]
  },
  {
   "cell_type": "markdown",
   "id": "fc9fa351-8fbb-47aa-ad51-f5d137b3c904",
   "metadata": {},
   "source": [
    "- Many machine learning algorithms perform better or converge faster when features are on a relatively similar scale and/or close to normally distributed.\n",
    "- Feature transformation is an important step in feature engineering of numeric data and it is used to handle skewed data. Machine Learning & Deep Learning algorithms are highly dependent on the input data quality.\n",
    "- If the data quality is not good then even the high-performance algorithms are of no use.\n",
    "- Examples of such algorithm families include:\n",
    "\n",
    "1. Linear and logistic regression\n",
    "2. Nearest neighbours\n",
    "3. Neural networks\n",
    "4. Support vector machines with radial bias kernel functions\n",
    "5. Principal components analysis"
   ]
  },
  {
   "cell_type": "markdown",
   "id": "d2660964-2a6e-4add-a763-4cc07aa32b40",
   "metadata": {},
   "source": [
    "- Scaling and standardizing can help features arrive in more digestible form for these algorithms.\n",
    "\n",
    "## Types Of Transformation\n",
    "### Normalization And Standardization\n",
    "\n",
    "1. Scaling to Minimum And Maximum values\n",
    "2. Scaling To Median And Quantiles\n",
    "3. Logarithmic Transformation\n",
    "4. Exponential Transformation\n",
    "5. Box Cox Transformation\n",
    "6. Square Root Transformation\n"
   ]
  },
  {
   "cell_type": "markdown",
   "id": "cdd9df68-2210-466c-a79e-802f8e40fc01",
   "metadata": {},
   "source": [
    "## Logarithmic Transformation :"
   ]
  },
  {
   "cell_type": "markdown",
   "id": "abfc76cc-35d6-4e07-a94e-2ad015963e56",
   "metadata": {},
   "source": [
    "- The log transformation is, arguably, the most popular among the different types of transformations used to transform skewed data to approximately conform to normality.\n",
    "- If the original data follows a log-normal distribution or approximately so, then the log-transformed data follows a normal or near normal distribution.\n",
    "- Logarithmic transformation is a convenient means of transforming a highly skewed variable into a more normalized dataset.\n",
    "- When modeling variables with non-linear relationships, the chances of producing errors may also be skewed negatively."
   ]
  },
  {
   "cell_type": "markdown",
   "id": "28cda73c-75be-4129-b366-6102bc4b25e8",
   "metadata": {},
   "source": [
    "- Log transformation is a data transformation method in which it replaces each variable x with a log(x).\n",
    "- The choice of the logarithm base is usually left up to the analyst and it would depend on the purposes of statistical modeling.\n",
    "- When our original continuous data do not follow the bell curve, we can log transform this data to make it as “normal” as possible so that the statistical analysis results from this data become more valid.\n",
    "- In other words, the log transformation reduces or removes the skewness of our original data.\n",
    "- The important caveat here is that the original data has to follow or approximately follow a log-normal distribution. Otherwise, the log transformation won’t work."
   ]
  },
  {
   "cell_type": "markdown",
   "id": "ea9fb231-3e81-42d1-a122-23fc1f191162",
   "metadata": {},
   "source": [
    "### Implementation :"
   ]
  },
  {
   "cell_type": "code",
   "execution_count": null,
   "id": "43cf2537-4385-4145-98e2-50b404de38e9",
   "metadata": {},
   "outputs": [],
   "source": [
    "plt.figure(figsize=(3,4))\n",
    "sns.histplot(x=df['CoapplicantIncome'],kde=True)\n",
    "plt.show()"
   ]
  },
  {
   "cell_type": "code",
   "execution_count": 1,
   "id": "cabc89a4-bfc4-4220-b1df-748c02c2e40e",
   "metadata": {},
   "outputs": [],
   "source": [
    "### We are able to see that the target value is slighly right skewed."
   ]
  },
  {
   "cell_type": "code",
   "execution_count": null,
   "id": "38859962-f54d-4f81-82b1-fdb48f12c85c",
   "metadata": {},
   "outputs": [],
   "source": [
    "plt.figure(figsize=(3,4))\n",
    "sns.histplot(x=df['ApplicantIncome'], kde= True) # left screwed\n",
    "plt.show()"
   ]
  },
  {
   "cell_type": "code",
   "execution_count": null,
   "id": "ebf35bdc-d200-46b5-9617-6d45c4812e51",
   "metadata": {},
   "outputs": [],
   "source": [
    "plt.figure(figsize=(3,4))\n",
    "sns.histplot(x=df['LoanAmount'], kde= True) # left screwed\n",
    "plt.show()"
   ]
  },
  {
   "cell_type": "code",
   "execution_count": null,
   "id": "7052fc08-fdb8-421b-b660-a9a349fae746",
   "metadata": {},
   "outputs": [],
   "source": [
    "plt.figure(figsize=(3,4))\n",
    "sns.histplot(x=df['Loan_Amount_Term'], kde= True) # right screwed\n",
    "plt.show()"
   ]
  },
  {
   "cell_type": "markdown",
   "id": "4deee869-5739-4376-87e9-9210c4795fac",
   "metadata": {},
   "source": [
    "### We are able to see that some of columns were right skewed and some were left skewed.\n",
    "### so we will using different transformation for different columns."
   ]
  },
  {
   "cell_type": "markdown",
   "id": "4b003f56-5e88-4742-a458-984ff8090321",
   "metadata": {},
   "source": [
    "## Using Log transformation :"
   ]
  },
  {
   "cell_type": "code",
   "execution_count": null,
   "id": "a5eca409-6fe4-48a5-b4db-12a12a97c7bc",
   "metadata": {},
   "outputs": [],
   "source": [
    "df['CoapplicantIncome']=np.log(df['CoapplicantIncome'])"
   ]
  },
  {
   "cell_type": "code",
   "execution_count": null,
   "id": "7bcfce62-019f-4059-b6b6-476035dc90c5",
   "metadata": {},
   "outputs": [],
   "source": [
    "plt.figure(figsize=(3,4))\n",
    "sns.histplot(x=df['CoapplicantIncome'], kde= True) # Target columns\n",
    "plt.show()"
   ]
  },
  {
   "cell_type": "markdown",
   "id": "a9691fc1-cd82-44ed-8d38-4e8c51ff3adb",
   "metadata": {},
   "source": [
    "### Data were sorted now."
   ]
  },
  {
   "cell_type": "markdown",
   "id": "9ec6c6b6-54dc-4643-bcbc-6595b90dc8a1",
   "metadata": {},
   "source": [
    "## Exponential Transformation :"
   ]
  },
  {
   "cell_type": "code",
   "execution_count": null,
   "id": "f08601f6-fcbb-435d-9377-a288f31c659f",
   "metadata": {},
   "outputs": [],
   "source": [
    "df['ApplicantIncome_exponential']=df.ApplicantIncome**(1/1.2)"
   ]
  },
  {
   "cell_type": "code",
   "execution_count": null,
   "id": "074ddd56-950f-4b47-8749-2878e634197f",
   "metadata": {},
   "outputs": [],
   "source": [
    "plt.figure(figsize=(3,4))\n",
    "sns.histplot(x=df['ApplicantIncome_exponential'], kde= True)\n",
    "plt.show()"
   ]
  },
  {
   "cell_type": "markdown",
   "id": "8c68cd94-d534-4e80-a4d3-7b54b500f1c5",
   "metadata": {},
   "source": [
    "## Box Cox Transformation :"
   ]
  },
  {
   "cell_type": "code",
   "execution_count": null,
   "id": "0f5ad4f8-a2b2-4b61-b6c7-362abf7f217e",
   "metadata": {},
   "outputs": [],
   "source": [
    "from scipy.stats import boxcox\n",
    "transformed_data, lambda_value = boxcox(df['Loan_Amount_Term'])"
   ]
  },
  {
   "cell_type": "code",
   "execution_count": null,
   "id": "a60c04c1-f46c-4056-a0b7-f299b14208ad",
   "metadata": {},
   "outputs": [],
   "source": [
    "print(\"Transformed data:\", transformed_data)"
   ]
  },
  {
   "cell_type": "code",
   "execution_count": null,
   "id": "dca1eecf-e586-4d0e-9462-401773834118",
   "metadata": {},
   "outputs": [],
   "source": [
    "print(\"Lambda value:\", lambda_value)"
   ]
  },
  {
   "cell_type": "markdown",
   "id": "d6862a44-be1f-452b-9efa-fdf2d9aa7577",
   "metadata": {},
   "source": [
    "## Square Root Transformation :"
   ]
  },
  {
   "cell_type": "markdown",
   "id": "65588d7d-7bb7-4928-a39e-dfd12f82edac",
   "metadata": {},
   "source": [
    "- This transformation is beneficial when dealing with right-skewed data or a few extreme outliers.\n",
    "- Taking the square root can help compress the larger values and make the distribution more symmetric."
   ]
  },
  {
   "cell_type": "markdown",
   "id": "08088b6f-af13-4032-a8a7-9e26a1bddf66",
   "metadata": {},
   "source": [
    "## Using Square Root Transformation :"
   ]
  },
  {
   "cell_type": "code",
   "execution_count": null,
   "id": "4670b249-3cac-4eab-ba64-58c69f14c95c",
   "metadata": {},
   "outputs": [],
   "source": [
    "df['LoanAmount']=df.LoanAmount**(1/2) # this column is right screwed"
   ]
  },
  {
   "cell_type": "code",
   "execution_count": null,
   "id": "70f34a6d-3249-4d7e-b145-780e874fbcfc",
   "metadata": {},
   "outputs": [],
   "source": [
    "plt.figure(figsize=(3,4))\n",
    "sns.histplot(x=df['LoanAmount'], kde= True)\n",
    "plt.show()"
   ]
  },
  {
   "cell_type": "markdown",
   "id": "1f9c54b9-b057-4d0a-8684-20f7fc80b010",
   "metadata": {},
   "source": [
    "### Now it is perfectly balanced."
   ]
  },
  {
   "cell_type": "markdown",
   "id": "cdd9874d-fb78-4bf0-b1a4-3d36ca35c09c",
   "metadata": {},
   "source": [
    "### All the available features need to be experimented with to get the best transformation for each feature."
   ]
  },
  {
   "cell_type": "code",
   "execution_count": null,
   "id": "1b84febb-7029-4073-9248-936711b5b495",
   "metadata": {},
   "outputs": [],
   "source": []
  },
  {
   "cell_type": "markdown",
   "id": "e81a163f-08fd-4a53-b6b4-1474eea4fb87",
   "metadata": {},
   "source": [
    "# Scaling :"
   ]
  },
  {
   "cell_type": "markdown",
   "id": "4355a56f-e64a-4223-8fc3-a800ca70d512",
   "metadata": {},
   "source": [
    "- Feature scaling is the process of normalizing the range of features in a dataset.\n",
    "- Real-world datasets often contain features that are varying in degrees of magnitude, range, and units. Therefore, in order for machine learning models to interpret these features on the same scale, we need to perform feature scaling.\n",
    "\n",
    "- Scaling of the data comes under the set of steps of data pre-processing when we are performing machine learning algorithms in the data set.\n",
    "- As we know most of the supervised and unsupervised learning methods make decisions according to the data sets applied to them and often the algorithms calculate the distance between the data points to make better inferences out of the data.\n",
    "\n",
    "- In real life, if we take an example of purchasing apples from a bunch of apples, we go close to the shop, examine various apples and pick various apples of the same attributes.\n",
    "- Because we have learned about the attributes of apples and we know which are better and which are not good also we know which attributes can be compromised and which can not.\n",
    "- So if most of the apples consist of pretty similar attributes we will take less time in the selection of the apples which directly affect the time of purchasing taken by us.\n",
    "- The moral of the example as if the apples every apple in the shop is good we will take less time to purchase or if the apples are not good enough we will take more time in the selection process which means that if the values of attributes are closer we will work faster and the chances of selecting good apples also strong.\n",
    "\n",
    "- Similarly in the machine learning algorithms if the values of the features are closer to each other there are chances for the algorithm to get trained well and faster instead of the data set where the data points or features values have high differences with each other will take more time to understand the data and the accuracy will be lower.\n",
    "\n",
    "- So if the data in any conditions has data points far from each other, scaling is a technique to make them closer to each other or in simpler words, we can say that the scaling is used for making data points generalized so that the distance between them will be lower.\n",
    "\n",
    "- As we know, most of the machine learning models learn from the data by the time the learning model maps the data points from input to output.  \n",
    "- And the distribution of the data points can be different for every feature of the data.\n",
    "- Larger differences between the data points of input variables increase the uncertainty in the results of the model.\n",
    "\n",
    "- The machine learning models provide weights to the input variables according to their data points and inferences for output. -  - In that case, if the difference between the data points is so high, the model will need to provide the larger weight to the points and in final results, the model with a large weight value is often unstable.\n",
    "- This means the model can produce poor results or can perform poorly during learning.\n",
    "\n",
    "- Scaling the target value is a good idea in regression modelling; scaling of the data makes it easy for a model to learn and understand the problem.\n",
    "- In the case of neural networks, an independent variable with a spread of values may result in a large loss in training and testing and cause the learning process to be unstable.\n",
    "\n",
    "- Normalization and Standardization are the two main methods for the scaling of the data. Which are widely used in the algorithms where scaling is required.\n",
    "- Both of them can be implemented by the scikit-learn libraries preprocess package.\n",
    "\n",
    "## Why feature scaling?\n",
    "\n",
    "- As of now, we have discussed that various machine learning algorithms are sensitive when the data is not scaled.\n",
    "- There are various machine learning algorithms that use the same kind of basic strategies as their base concept under the algorithm.\n",
    "- These base concepts are totally based on the mapping of the distance between data points.\n",
    "\n"
   ]
  },
  {
   "cell_type": "markdown",
   "id": "0c329b32-56cf-4f28-baec-41de5abc080a",
   "metadata": {},
   "source": [
    "## Why is Scaling Important?\n",
    "\n",
    "- By far, we saw how scaling can affect the distribution and nature of the dataset.\n",
    "- Now it’s time to see why scaling is important before model building or how it can improve the model’s accuracy.\n",
    "- Along with that, we will also see what type of algorithm shows the effect for that, we have taken two algorithms, i.e., Logistic regression, where there is a lot of significance of distance, and another one is Decision Tree which has no relationship with distance."
   ]
  },
  {
   "cell_type": "markdown",
   "id": "bb8bafcb-518a-49a9-bded-768581d075f1",
   "metadata": {},
   "source": [
    "## Data Normalization :\n",
    "\n",
    "- Normalization can have various meanings, in the simplest case normalization means adjusting all the values measured in the different scales, in a common scale.\n",
    "\n",
    "- In statistics, normalization is the method of rescaling data where we try to fit all the data points between the range of 0 to 1 so that the data points can become closer to each other.\n",
    "\n",
    "- It is a very common approach to scaling the data.\n",
    "- In this method of scaling the data, the minimum value of any feature gets converted into 0 and the maximum value of the feature gets converted into 1.\n",
    "\n",
    "- Basically, under the operation of normalization, the difference between any value and the minimum value gets divided by the difference of the maximum and minimum values.\n",
    "- We can represent the normalization as follows :\n",
    "\n",
    "### X(norm) = X- min(x) / max(x) - min(x)\n",
    "\n",
    "\n",
    "- Where x is any value from the feature x and min(X) is the minimum value from the feature and max(x) is the maximum value of the feature.\n",
    "\n",
    "- Scikit learn provides the implementation of normalization in a preprocessing package.\n",
    "\n",
    "#### Normalizing the array.\n",
    "\n",
    "- scaler = MinMaxScaler()\n",
    "- scaler.fit(df)\n",
    "- scaled_features = scaler.transform(df)\n",
    "- print(scaled_features)\n",
    "\n",
    "### Where to Use Normalization?\n",
    "\n",
    "- Since we have seen the normalization method scales between zero to one it is better to use with the data where the distribution of the data is not following the Gaussian distribution or we can apply with an algorithm that does not count on the distribution of the data in the procedure like K-means and KNN.\n"
   ]
  },
  {
   "cell_type": "markdown",
   "id": "8ae0d729-a5f5-4bca-9d8c-d9d0cca71fc8",
   "metadata": {},
   "source": [
    "## Standardization :\n",
    "\n",
    "- Like normalization, standardization is also required in some forms of machine learning when the input data points are scaled in different scales. Standardization can be a common scale for these data points.  \n",
    "\n",
    "- The basic concept behind the standardization function is to make data points centred about the mean of all the data points presented in a feature with a unit standard deviation.\n",
    "- This means the mean of the data point will be zero and the standard deviation will be 1.\n",
    "\n",
    "- This technique also tries to scale the data point between zero to one but in it, we don’t use max or minimum.\n",
    "- Here we are working with the mean and the standard deviation.\n",
    "\n",
    "- In statistics, the mean is the average value of all the numbers presented in a set of numbers and the standard deviation is a measurement of the dispersion of the data points from the mean value of the data points.  \n",
    "\n",
    "- So in standardization, the data points are rescaled by ensuring that after scaling they will be in a curve shape. Mathematically we can represent it as follow :\n",
    "\n",
    " ### X(std) = X - mean(X) / std deviation(X).\n",
    "\n",
    "\n",
    "## Implementation :\n",
    "\n",
    "- from sklearn.preprocessing import StandardScaler\n",
    "- sc_X = StandardScaler()\n",
    "- sc_X = sc_X.fit_transform(df)\n",
    "- print(sc_X)\n",
    "\n",
    "\n",
    "### Where to use Standardization?\n",
    "\n",
    "- Since the results provided by the standardization are not bounded with any range as we have seen in normalization, it can be used with the data where the distribution is following the Gaussian distribution.\n",
    "- In the case of outliers, standardization does not harm the position wherein normalization captures all the data points in their ranges.\n",
    "\n"
   ]
  },
  {
   "cell_type": "markdown",
   "id": "5ca6f13b-07b3-4ab4-bcc9-55d82a776be9",
   "metadata": {},
   "source": [
    "# Standard scaling :"
   ]
  },
  {
   "cell_type": "markdown",
   "id": "2928935c-fea4-49ca-a8a3-2c92579b2346",
   "metadata": {},
   "source": [
    "- Feature scaling through standardization, also called Z-score normalization, is an important preprocessing step for many machine learning algorithms. It involves rescaling each feature such that it has a standard deviation of 1 and a mean of 0.\n",
    "\n",
    "- StandardScaler removes the mean and scales each feature/variable to unit variance.\n",
    "- This operation is performed feature-wise in an independent way.\n",
    "- StandardScaler can be influenced by outliers (if they exist in the dataset) since it involves the estimation of the empirical mean and standard deviation of each feature.\n",
    "\n",
    "\n",
    "- Standardization is one of the feature scaling techniques which scales down the data in such a way that the algorithms (like KNN, Logistic Regression, etc.) which are dependent on distance and weights should not get affected by uneven-scaled datasets because if it happens, then, the model accuracy will not be good (will show this practically).\n",
    "- on the other hand, if we will scale the data evenly in such a way that the data points are mean centric and standard deviation of the distribution is 1 then the weights will be treated equally by the algorithm giving the more relevant and accurate results.\n",
    "\n",
    "- import numpy as np # linear algebra\n",
    "- import pandas as pd # data processing\n",
    "- import matplotlib.pyplot as plt\n",
    "- import seaborn as sns\n",
    "- We are importing some required libraries, which will help in practically implementing standardization.\n",
    "\n",
    "- Numpy: For solving equations related to linear algebra.\n",
    "- Pandas: For DataFrame manipulation and preprocessing.\n",
    "- Matplotlib and Seaborn: For data visualization and seeing the distributions.\n",
    "- df = pd.read_csv('Social_Network_Ads.csv')\n",
    "- df=df.iloc[:,2:]\n",
    "- df.sample(5)\n",
    "\n",
    "\n",
    "### Inference:\n",
    "- There will always be a debate about whether to do a train test split before doing standard scaling or not, but in my preference, it is essential to do this step before standardization as if we scale the whole data, then for our algorithm, there might be no testing data left which will eventually lead to overfitting condition.\n",
    "- On the other hand now if we only scale our training data then we will still have the testing data which is unseen for the model."
   ]
  },
  {
   "cell_type": "markdown",
   "id": "ba36794f-6c00-49fd-bf38-c8a42569fa54",
   "metadata": {},
   "source": [
    "## Standard Scaler :\n",
    "- from sklearn.preprocessing import StandardScaler\n",
    "\n",
    "- scaler = StandardScaler()\n",
    "\n",
    "#### fit the scaler to the train set, it will learn the parameters :\n",
    "- scaler.fit(X_train)\n",
    "\n",
    "#### transform train and test sets\n",
    "- X_train_scaled = scaler.transform(X_train)\n",
    "- X_test_scaled = scaler.transform(X_test).\n",
    "\n"
   ]
  },
  {
   "cell_type": "markdown",
   "id": "79de0e8a-2c36-4751-9433-f437b44ad6d9",
   "metadata": {},
   "source": [
    "# Using Standard Scalar :"
   ]
  },
  {
   "cell_type": "code",
   "execution_count": null,
   "id": "2ad165e9-fc11-41b0-afe4-d6f522a9df58",
   "metadata": {},
   "outputs": [],
   "source": []
  }
 ],
 "metadata": {
  "kernelspec": {
   "display_name": "Python 3 (ipykernel)",
   "language": "python",
   "name": "python3"
  },
  "language_info": {
   "codemirror_mode": {
    "name": "ipython",
    "version": 3
   },
   "file_extension": ".py",
   "mimetype": "text/x-python",
   "name": "python",
   "nbconvert_exporter": "python",
   "pygments_lexer": "ipython3",
   "version": "3.12.4"
  }
 },
 "nbformat": 4,
 "nbformat_minor": 5
}
