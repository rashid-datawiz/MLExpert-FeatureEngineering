{
 "cells": [
  {
   "cell_type": "markdown",
   "id": "d7a07c44-052c-4057-984a-42c1faa2cbd2",
   "metadata": {},
   "source": [
    "# FEATURE ENGINEERING:"
   ]
  },
  {
   "cell_type": "markdown",
   "id": "87a23538-9ec7-4333-bedb-98e954fac22f",
   "metadata": {},
   "source": [
    "###  Feature Engineering :\n",
    "1. Introduction\n",
    "2. Why is it used\n",
    "3. Why do we begin with this step\n",
    "\n",
    "###   Null Values :\n",
    "1. What are null values\n",
    "2. How to identify them\n",
    "3. How to handle null values\n",
    "4. Implementation\n",
    "\n",
    "###  Outliers :\n",
    "1. What are outliers\n",
    "2. How can we detect them\n",
    "3. How to handle the outliers\n",
    "4. Implementation\n",
    "\n",
    "###  Preprocessing :\n",
    "\n",
    "1. What is preprocessing\n",
    "2. What are the steps for preprocessing\n",
    "3. What are the functions for preprocessing\n",
    "4. Implementation\n",
    "\n",
    "### Transformation :\n",
    "\n",
    "1. what is transformation\n",
    "2. what are the types of transformation\n",
    "3. Implementation\n",
    "\n",
    "\n",
    "\n",
    "###  Scaling :\n",
    "\n",
    "1. what is scaling\n",
    "2. why are we scaling\n",
    "3. what are types of scaling\n",
    "4. Implementation\n",
    "\n",
    "\n"
   ]
  },
  {
   "cell_type": "markdown",
   "id": "0dadcd1f-9f90-469b-9487-55c88d046e9c",
   "metadata": {},
   "source": [
    "##  Introduction to feature engineering :"
   ]
  },
  {
   "cell_type": "markdown",
   "id": "855ddf25-cd53-40d4-87ba-0e020ec8e5ff",
   "metadata": {},
   "source": [
    "- Feature Engineering is the process of extracting and organizing the important features from raw data in such a way that it fits the purpose of the machine learning model.\n",
    "\n",
    "- It can be thought of as the art of selecting the important features and transforming them into refined and meaningful features that suit the needs of the model.\n",
    "\n",
    "- Feature Engineering encapsulates various data engineering techniques such as selecting relevant features, handling missing data, encoding the data, and normalizing it.\n",
    "\n",
    "- It is one of the most crucial tasks and plays a major role in determining the outcome of a model.\n",
    "\n",
    "- In order to ensure that the chosen algorithm can perform to its optimum capability, it is important to engineer the features of the input data effectively.\n",
    "\n"
   ]
  },
  {
   "cell_type": "markdown",
   "id": "d27e8687-02f2-4a5b-a157-33f92c0e9dab",
   "metadata": {},
   "source": [
    "## Why is Feature Engineering so important?"
   ]
  },
  {
   "cell_type": "markdown",
   "id": "0b843217-d0cc-4b95-abfa-4057ba8bfb96",
   "metadata": {},
   "source": [
    "- You must know what takes the maximum amount of time and effort in a Machine Learning workflow.\n",
    "- Getting to the modelling stage will take up to 80% of the time of a data scientist.\n",
    "\n",
    "- This is where Feature Engineering comes into play.\n",
    "- After the data is cleaned and processed it is then ready to be fed into the machine learning models to train and generate outputs.\n",
    "\n",
    "- Feature engineering is focused on using the variables you already have to create additional features that are (hopefully) better at representing the underlying structure of your data.\n",
    "\n",
    "- Feature engineering is a creative process that relies heavily on domain knowledge and the thorough exploration of your data. - - But before we go any further, we need to step back and answer an important question.\n",
    "\n",
    "- A feature is not just any variable in a dataset.\n",
    "- A feature is a variable that is important for predicting your specific target and addressing your specific question(s).\n",
    "\n",
    "- For example, a variable that is commonly found in many datasets is some form of unique identifier.\n",
    "- This identifier may represent a unique individual, building, transaction, etc.\n",
    "\n",
    "- Unique identifiers are very useful because they allow you to filter out duplicate entries or merge data tables, but unique IDs are not useful predictors.\n",
    "- We wouldn’t include such a variable in our model because it would instantly overfit to the training data without providing any useful information for predicting future observations.\n",
    "\n",
    "- Creating additional features that better emphasize the trends in your data has the potential to boost model performance.\n",
    "- After all, the quality of any model is limited by the quality of the data you feed into it.\n",
    "\n",
    "- Just because the information is technically already in your dataset does not mean a machine learning algorithm will be able to pick up on it.\n",
    "\n",
    "- Important information can get lost amidst the noise and competing signals in a large feature space.\n",
    "- Thus, in some ways, feature engineering is like trying to tell a model what aspects of the data are worth focusing on.\n",
    "\n",
    "- This is where your domain knowledge and creativity as a data scientist can really shine\n",
    "\n",
    "\n"
   ]
  },
  {
   "cell_type": "markdown",
   "id": "52aa0fc5-6138-4cd0-ac95-487ad2ad7c78",
   "metadata": {},
   "source": [
    "#### So far we have established that Feature Engineering is an extremely important part of a Machine Learning Pipeline, but why is it needed in the first place?\n",
    "\n",
    "-  In most cases, Data Scientists deal with data extracted from massive open data sources such as the internet, surveys, or reviews.\n",
    "\n",
    "- This data is crude and is known as raw data.\n",
    "- It may contain missing values, unstructured data, incorrect inputs, and outliers.\n",
    "\n",
    "- If we directly use this raw, un-processed data to train our models, we will land up with a model having a very poor efficiency.\n",
    "\n",
    "- Thus Feature Engineering plays an extremely pivotal role in determining the performance of any machine learning model.\n",
    "\n",
    "- Analyzing The Dataset Features iis very important,\n",
    "- Whenever you get your hands on a dataset, you must first spend some time analyzing it.\n",
    "\n",
    "- This will help you get an understanding of the type of features and data you are dealing with.\n",
    "- Analyzing the dataset will also help you create a mind map of the feature engineering techniques that you will need to process your data.\n",
    "\n",
    "- Now our dataset is feature engineered and all ready to be fed into a Machine Learning model.\n",
    "- This dataset can now be used to train the model to make the desired predictions.\n",
    "- We have effectively engineered all our features.\n",
    "- The missing values have been handled, the categorical variables have been effectively encoded and the features have been scaled to a uniform scale.\n",
    "\n",
    "- Rest assured, now we can safely sit back and wait for our data to generate some amazing results!\n",
    "\n",
    "- Once you have effectively feature engineered all the variables in your dataset, you can be sure to generate models having the best possible efficiency as all the algorithms can now perform to their optimum capabilities.\n",
    "\n",
    "- Feature engineering, like so many things in data science, is an iterative process. Investigating, experimenting, and doubling back to make adjustments are crucial.\n",
    "- The insights you stand to gain into the structure of your data and the potential improvements to model performance are usually well worth the effort.\n",
    "- Plus, if you’re relatively new to all this, feature engineering is a great way to practice working with and manipulating DataFrames! So stay tuned for future posts covering specific examples (with code) of how to do just that.\n",
    "\n",
    "- That is the all about Feature Engineering!\n"
   ]
  },
  {
   "cell_type": "markdown",
   "id": "c3e1a87f-2bb7-43f3-8f8b-a4464b393e14",
   "metadata": {},
   "source": [
    "# Null Values :"
   ]
  },
  {
   "cell_type": "markdown",
   "id": "a93f50e2-21ee-41ce-8863-6737a7494466",
   "metadata": {},
   "source": [
    "- A null value is a placeholder that indicates the absence of a value.\n",
    "- Null values exist for all data types. The null value of a given data type is different from all non-null values of the same data type.\n",
    "- By default, any column can contain null values.\n",
    "- You can use either the NOT NULL or the CHECK parameter in a column definition to disallow null values in the column.\n",
    "\n",
    "## How You Specify a Null Value\n",
    "\n",
    "- You use the keyword NULL to indicate a null value.\n",
    "- For example, the following INSERT statement inserts a new row into the DEPARTMENT table.\n",
    "- The department number and name and the division code are known, but the department head has not been appointed yet.\n",
    "- A null value is used as a placeholder in the DEPT_HEAD_ID column.\n",
    "\n",
    "- Missing values are a common issue in machine learning.\n",
    "- This occurs when a particular variable lacks data points, resulting in incomplete information and potentially harming the accuracy and dependability of your models.\n",
    "- It is essential to address missing values efficiently to ensure strong and impartial results in your machine-learning projects.\n",
    "\n",
    "\n",
    "\n"
   ]
  },
  {
   "cell_type": "markdown",
   "id": "86d36bf0-bd0f-4ef8-bb4d-783b838ec696",
   "metadata": {},
   "source": [
    "## What is a Missing Value?\n",
    "\n",
    "- Missing values are data points that are absent for a specific variable in a dataset.\n",
    "- They can be represented in various ways, such as blank cells, null values, or special symbols like “NA” or “unknown.”\n",
    "- These missing data points pose a significant challenge in data analysis and can lead to inaccurate or biased results.\n",
    "\n",
    "### Methods for Identifying Missing Data\n",
    "\n",
    "- Locating and understanding patterns of missingness in the dataset is an important step in addressing its impact on analysis. - - Working with Missing Data in Pandas there are several useful functions for detecting, removing, and replacing null values in Pandas DataFrame.\n"
   ]
  },
  {
   "cell_type": "markdown",
   "id": "3efaba19-a32b-44c5-b9d7-722093ef5a35",
   "metadata": {},
   "source": [
    "\n",
    "## Functions that can be used to identify the null values :\n",
    "\n",
    "##### .isnull()\n",
    "\n",
    "- Identifies missing values in a Series or DataFrame.\n",
    "\n",
    "##### .notnull()\n",
    "\n",
    "- check for missing values in a pandas Series or DataFrame. It returns a boolean Series or DataFrame, where True indicates non-missing values and False indicates missing values.\n",
    "\n",
    "##### .info()\n",
    "\n",
    "- Displays information about the DataFrame, including data types, memory usage, and presence of missing values.\n",
    "\n",
    "##### .isna()\n",
    "\n",
    "- similar to notnull() but returns True for missing values and False for non-missing values.\n",
    "\n",
    "- dropna()\tDrops rows or columns containing missing values based on custom criteria.\n",
    "- fillna()\tFills missing values with specific values, means, medians, or other calculated values.\n",
    "- replace()\tReplaces specific values with other values, facilitating data correction and standardization.\n",
    "- drop_duplicates()\tRemoves duplicate rows based on specified columns.\n",
    "- unique()\tFinds unique values in a Series or DataFrame.\n",
    "\n",
    "\n"
   ]
  },
  {
   "cell_type": "code",
   "execution_count": null,
   "id": "620bd3f0-730d-4e0a-a706-283cdff61208",
   "metadata": {},
   "outputs": [],
   "source": []
  }
 ],
 "metadata": {
  "kernelspec": {
   "display_name": "Python 3 (ipykernel)",
   "language": "python",
   "name": "python3"
  },
  "language_info": {
   "codemirror_mode": {
    "name": "ipython",
    "version": 3
   },
   "file_extension": ".py",
   "mimetype": "text/x-python",
   "name": "python",
   "nbconvert_exporter": "python",
   "pygments_lexer": "ipython3",
   "version": "3.12.4"
  }
 },
 "nbformat": 4,
 "nbformat_minor": 5
}
